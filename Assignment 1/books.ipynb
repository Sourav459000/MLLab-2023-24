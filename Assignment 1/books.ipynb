{
 "cells": [
  {
   "cell_type": "markdown",
   "id": "202934e7177d937",
   "metadata": {
    "collapsed": false
   },
   "source": [
    "## Importing necessary libraries"
   ]
  },
  {
   "cell_type": "code",
   "execution_count": 1,
   "id": "aa7af93c44ca9a52",
   "metadata": {
    "collapsed": false,
    "ExecuteTime": {
     "end_time": "2024-02-06T04:23:47.741224Z",
     "start_time": "2024-02-06T04:23:47.058261700Z"
    }
   },
   "outputs": [],
   "source": [
    "import numpy as np\n",
    "import pandas as pd"
   ]
  },
  {
   "cell_type": "markdown",
   "id": "edc5b6cb8735fdbe",
   "metadata": {
    "collapsed": false
   },
   "source": [
    "## Loading the dataset"
   ]
  },
  {
   "cell_type": "code",
   "execution_count": 2,
   "id": "d7492e63614387f9",
   "metadata": {
    "collapsed": false,
    "ExecuteTime": {
     "end_time": "2024-02-06T04:23:47.764395400Z",
     "start_time": "2024-02-06T04:23:47.743223300Z"
    }
   },
   "outputs": [],
   "source": [
    "bdata = pd.read_csv(\"resources/books.csv\")"
   ]
  },
  {
   "cell_type": "markdown",
   "id": "bd6814d104856575",
   "metadata": {
    "collapsed": false
   },
   "source": [
    "## Displaying the entire dataset"
   ]
  },
  {
   "cell_type": "code",
   "execution_count": 3,
   "id": "cf69d3ba17cd4bcc",
   "metadata": {
    "collapsed": false,
    "ExecuteTime": {
     "end_time": "2024-02-06T04:23:47.788918900Z",
     "start_time": "2024-02-06T04:23:47.767911200Z"
    }
   },
   "outputs": [
    {
     "data": {
      "text/plain": "                                                  name  \\\n0                        10-Day Green Smoothie Cleanse   \n1                                    11/22/63: A Novel   \n2              12 Rules for Life: An Antidote to Chaos   \n3                               1984 (Signet Classics)   \n4    5,000 Awesome Facts (About Everything!) (Natio...   \n..                                                 ...   \n345  Wild: From Lost to Found on the Pacific Crest ...   \n346  Winter of the World: Book Two of the Century T...   \n347  Women Food and God: An Unexpected Path to Almo...   \n348                                             Wonder   \n349       Wrecking Ball (Diary of a Wimpy Kid Book 14)   \n\n                       author  rating  year        genre  \n0                    JJ Smith     4.7  2016  Non Fiction  \n1                Stephen King     4.6  2011      Fiction  \n2          Jordan B. Peterson     4.7  2018  Non Fiction  \n3               George Orwell     4.7  2017      Fiction  \n4    National Geographic Kids     4.8  2019    Childrens  \n..                        ...     ...   ...          ...  \n345            Cheryl Strayed     4.4  2012  Non Fiction  \n346               Ken Follett     4.5  2012      Fiction  \n347               Geneen Roth     4.2  2010  Non Fiction  \n348             R. J. Palacio     4.8  2013      Fiction  \n349               Jeff Kinney     4.9  2019    Childrens  \n\n[350 rows x 5 columns]",
      "text/html": "<div>\n<style scoped>\n    .dataframe tbody tr th:only-of-type {\n        vertical-align: middle;\n    }\n\n    .dataframe tbody tr th {\n        vertical-align: top;\n    }\n\n    .dataframe thead th {\n        text-align: right;\n    }\n</style>\n<table border=\"1\" class=\"dataframe\">\n  <thead>\n    <tr style=\"text-align: right;\">\n      <th></th>\n      <th>name</th>\n      <th>author</th>\n      <th>rating</th>\n      <th>year</th>\n      <th>genre</th>\n    </tr>\n  </thead>\n  <tbody>\n    <tr>\n      <th>0</th>\n      <td>10-Day Green Smoothie Cleanse</td>\n      <td>JJ Smith</td>\n      <td>4.7</td>\n      <td>2016</td>\n      <td>Non Fiction</td>\n    </tr>\n    <tr>\n      <th>1</th>\n      <td>11/22/63: A Novel</td>\n      <td>Stephen King</td>\n      <td>4.6</td>\n      <td>2011</td>\n      <td>Fiction</td>\n    </tr>\n    <tr>\n      <th>2</th>\n      <td>12 Rules for Life: An Antidote to Chaos</td>\n      <td>Jordan B. Peterson</td>\n      <td>4.7</td>\n      <td>2018</td>\n      <td>Non Fiction</td>\n    </tr>\n    <tr>\n      <th>3</th>\n      <td>1984 (Signet Classics)</td>\n      <td>George Orwell</td>\n      <td>4.7</td>\n      <td>2017</td>\n      <td>Fiction</td>\n    </tr>\n    <tr>\n      <th>4</th>\n      <td>5,000 Awesome Facts (About Everything!) (Natio...</td>\n      <td>National Geographic Kids</td>\n      <td>4.8</td>\n      <td>2019</td>\n      <td>Childrens</td>\n    </tr>\n    <tr>\n      <th>...</th>\n      <td>...</td>\n      <td>...</td>\n      <td>...</td>\n      <td>...</td>\n      <td>...</td>\n    </tr>\n    <tr>\n      <th>345</th>\n      <td>Wild: From Lost to Found on the Pacific Crest ...</td>\n      <td>Cheryl Strayed</td>\n      <td>4.4</td>\n      <td>2012</td>\n      <td>Non Fiction</td>\n    </tr>\n    <tr>\n      <th>346</th>\n      <td>Winter of the World: Book Two of the Century T...</td>\n      <td>Ken Follett</td>\n      <td>4.5</td>\n      <td>2012</td>\n      <td>Fiction</td>\n    </tr>\n    <tr>\n      <th>347</th>\n      <td>Women Food and God: An Unexpected Path to Almo...</td>\n      <td>Geneen Roth</td>\n      <td>4.2</td>\n      <td>2010</td>\n      <td>Non Fiction</td>\n    </tr>\n    <tr>\n      <th>348</th>\n      <td>Wonder</td>\n      <td>R. J. Palacio</td>\n      <td>4.8</td>\n      <td>2013</td>\n      <td>Fiction</td>\n    </tr>\n    <tr>\n      <th>349</th>\n      <td>Wrecking Ball (Diary of a Wimpy Kid Book 14)</td>\n      <td>Jeff Kinney</td>\n      <td>4.9</td>\n      <td>2019</td>\n      <td>Childrens</td>\n    </tr>\n  </tbody>\n</table>\n<p>350 rows × 5 columns</p>\n</div>"
     },
     "execution_count": 3,
     "metadata": {},
     "output_type": "execute_result"
    }
   ],
   "source": [
    "bdata"
   ]
  },
  {
   "cell_type": "markdown",
   "id": "51fb8f50e9fbee9c",
   "metadata": {
    "collapsed": false
   },
   "source": [
    "## Displaying the first five rows of the dataset"
   ]
  },
  {
   "cell_type": "code",
   "execution_count": 4,
   "id": "5812335be8d1ac3",
   "metadata": {
    "collapsed": false,
    "ExecuteTime": {
     "end_time": "2024-02-06T04:23:47.805150800Z",
     "start_time": "2024-02-06T04:23:47.787908400Z"
    }
   },
   "outputs": [
    {
     "data": {
      "text/plain": "                                                name  \\\n0                      10-Day Green Smoothie Cleanse   \n1                                  11/22/63: A Novel   \n2            12 Rules for Life: An Antidote to Chaos   \n3                             1984 (Signet Classics)   \n4  5,000 Awesome Facts (About Everything!) (Natio...   \n\n                     author  rating  year        genre  \n0                  JJ Smith     4.7  2016  Non Fiction  \n1              Stephen King     4.6  2011      Fiction  \n2        Jordan B. Peterson     4.7  2018  Non Fiction  \n3             George Orwell     4.7  2017      Fiction  \n4  National Geographic Kids     4.8  2019    Childrens  ",
      "text/html": "<div>\n<style scoped>\n    .dataframe tbody tr th:only-of-type {\n        vertical-align: middle;\n    }\n\n    .dataframe tbody tr th {\n        vertical-align: top;\n    }\n\n    .dataframe thead th {\n        text-align: right;\n    }\n</style>\n<table border=\"1\" class=\"dataframe\">\n  <thead>\n    <tr style=\"text-align: right;\">\n      <th></th>\n      <th>name</th>\n      <th>author</th>\n      <th>rating</th>\n      <th>year</th>\n      <th>genre</th>\n    </tr>\n  </thead>\n  <tbody>\n    <tr>\n      <th>0</th>\n      <td>10-Day Green Smoothie Cleanse</td>\n      <td>JJ Smith</td>\n      <td>4.7</td>\n      <td>2016</td>\n      <td>Non Fiction</td>\n    </tr>\n    <tr>\n      <th>1</th>\n      <td>11/22/63: A Novel</td>\n      <td>Stephen King</td>\n      <td>4.6</td>\n      <td>2011</td>\n      <td>Fiction</td>\n    </tr>\n    <tr>\n      <th>2</th>\n      <td>12 Rules for Life: An Antidote to Chaos</td>\n      <td>Jordan B. Peterson</td>\n      <td>4.7</td>\n      <td>2018</td>\n      <td>Non Fiction</td>\n    </tr>\n    <tr>\n      <th>3</th>\n      <td>1984 (Signet Classics)</td>\n      <td>George Orwell</td>\n      <td>4.7</td>\n      <td>2017</td>\n      <td>Fiction</td>\n    </tr>\n    <tr>\n      <th>4</th>\n      <td>5,000 Awesome Facts (About Everything!) (Natio...</td>\n      <td>National Geographic Kids</td>\n      <td>4.8</td>\n      <td>2019</td>\n      <td>Childrens</td>\n    </tr>\n  </tbody>\n</table>\n</div>"
     },
     "execution_count": 4,
     "metadata": {},
     "output_type": "execute_result"
    }
   ],
   "source": [
    "bdata.head()"
   ]
  },
  {
   "cell_type": "markdown",
   "id": "c5a3ce56e80577e1",
   "metadata": {
    "collapsed": false
   },
   "source": [
    "## Filtering books with a rating greater than or equal to 4.5"
   ]
  },
  {
   "cell_type": "code",
   "execution_count": 5,
   "id": "ec23580f9ff1603d",
   "metadata": {
    "collapsed": false,
    "ExecuteTime": {
     "end_time": "2024-02-06T04:23:47.819178700Z",
     "start_time": "2024-02-06T04:23:47.800148900Z"
    }
   },
   "outputs": [
    {
     "data": {
      "text/plain": "                                                  name  \\\n0                        10-Day Green Smoothie Cleanse   \n1                                    11/22/63: A Novel   \n2              12 Rules for Life: An Antidote to Chaos   \n3                               1984 (Signet Classics)   \n4    5,000 Awesome Facts (About Everything!) (Natio...   \n..                                                 ...   \n343                          Where the Wild Things Are   \n344  Whose Boat Is This Boat?: Comments That Don't ...   \n346  Winter of the World: Book Two of the Century T...   \n348                                             Wonder   \n349       Wrecking Ball (Diary of a Wimpy Kid Book 14)   \n\n                               author  rating  year        genre  \n0                            JJ Smith     4.7  2016  Non Fiction  \n1                        Stephen King     4.6  2011      Fiction  \n2                  Jordan B. Peterson     4.7  2018  Non Fiction  \n3                       George Orwell     4.7  2017      Fiction  \n4            National Geographic Kids     4.8  2019    Childrens  \n..                                ...     ...   ...          ...  \n343                    Maurice Sendak     4.8  2009    Childrens  \n344  The Staff of The Late Show with\n     4.6  2018  Non Fiction  \n346                       Ken Follett     4.5  2012      Fiction  \n348                     R. J. Palacio     4.8  2013      Fiction  \n349                       Jeff Kinney     4.9  2019    Childrens  \n\n[281 rows x 5 columns]",
      "text/html": "<div>\n<style scoped>\n    .dataframe tbody tr th:only-of-type {\n        vertical-align: middle;\n    }\n\n    .dataframe tbody tr th {\n        vertical-align: top;\n    }\n\n    .dataframe thead th {\n        text-align: right;\n    }\n</style>\n<table border=\"1\" class=\"dataframe\">\n  <thead>\n    <tr style=\"text-align: right;\">\n      <th></th>\n      <th>name</th>\n      <th>author</th>\n      <th>rating</th>\n      <th>year</th>\n      <th>genre</th>\n    </tr>\n  </thead>\n  <tbody>\n    <tr>\n      <th>0</th>\n      <td>10-Day Green Smoothie Cleanse</td>\n      <td>JJ Smith</td>\n      <td>4.7</td>\n      <td>2016</td>\n      <td>Non Fiction</td>\n    </tr>\n    <tr>\n      <th>1</th>\n      <td>11/22/63: A Novel</td>\n      <td>Stephen King</td>\n      <td>4.6</td>\n      <td>2011</td>\n      <td>Fiction</td>\n    </tr>\n    <tr>\n      <th>2</th>\n      <td>12 Rules for Life: An Antidote to Chaos</td>\n      <td>Jordan B. Peterson</td>\n      <td>4.7</td>\n      <td>2018</td>\n      <td>Non Fiction</td>\n    </tr>\n    <tr>\n      <th>3</th>\n      <td>1984 (Signet Classics)</td>\n      <td>George Orwell</td>\n      <td>4.7</td>\n      <td>2017</td>\n      <td>Fiction</td>\n    </tr>\n    <tr>\n      <th>4</th>\n      <td>5,000 Awesome Facts (About Everything!) (Natio...</td>\n      <td>National Geographic Kids</td>\n      <td>4.8</td>\n      <td>2019</td>\n      <td>Childrens</td>\n    </tr>\n    <tr>\n      <th>...</th>\n      <td>...</td>\n      <td>...</td>\n      <td>...</td>\n      <td>...</td>\n      <td>...</td>\n    </tr>\n    <tr>\n      <th>343</th>\n      <td>Where the Wild Things Are</td>\n      <td>Maurice Sendak</td>\n      <td>4.8</td>\n      <td>2009</td>\n      <td>Childrens</td>\n    </tr>\n    <tr>\n      <th>344</th>\n      <td>Whose Boat Is This Boat?: Comments That Don't ...</td>\n      <td>The Staff of The Late Show with</td>\n      <td>4.6</td>\n      <td>2018</td>\n      <td>Non Fiction</td>\n    </tr>\n    <tr>\n      <th>346</th>\n      <td>Winter of the World: Book Two of the Century T...</td>\n      <td>Ken Follett</td>\n      <td>4.5</td>\n      <td>2012</td>\n      <td>Fiction</td>\n    </tr>\n    <tr>\n      <th>348</th>\n      <td>Wonder</td>\n      <td>R. J. Palacio</td>\n      <td>4.8</td>\n      <td>2013</td>\n      <td>Fiction</td>\n    </tr>\n    <tr>\n      <th>349</th>\n      <td>Wrecking Ball (Diary of a Wimpy Kid Book 14)</td>\n      <td>Jeff Kinney</td>\n      <td>4.9</td>\n      <td>2019</td>\n      <td>Childrens</td>\n    </tr>\n  </tbody>\n</table>\n<p>281 rows × 5 columns</p>\n</div>"
     },
     "execution_count": 5,
     "metadata": {},
     "output_type": "execute_result"
    }
   ],
   "source": [
    "filtered_rating = bdata[bdata['rating'] >= 4.5]\n",
    "filtered_rating"
   ]
  },
  {
   "cell_type": "markdown",
   "id": "d6c15b446984547a",
   "metadata": {
    "collapsed": false
   },
   "source": [
    "## Counting the number of books by each author"
   ]
  },
  {
   "cell_type": "code",
   "execution_count": 6,
   "id": "30b2dc1a53e5e251",
   "metadata": {
    "collapsed": false,
    "ExecuteTime": {
     "end_time": "2024-02-06T04:23:47.859046400Z",
     "start_time": "2024-02-06T04:23:47.816163400Z"
    }
   },
   "outputs": [
    {
     "data": {
      "text/plain": "author\nJeff Kinney            12\nRick Riordan           10\nStephenie Meyer         7\nBill O'Reilly           6\nJ.K. Rowling            6\n                       ..\nEric Larson             1\nChristopher Paolini     1\nJennifer Smith          1\nSarah Young             1\nR. J. Palacio           1\nName: count, Length: 247, dtype: int64"
     },
     "execution_count": 6,
     "metadata": {},
     "output_type": "execute_result"
    }
   ],
   "source": [
    "author_counts = bdata['author'].value_counts()\n",
    "author_counts"
   ]
  },
  {
   "cell_type": "markdown",
   "id": "837f8b6d5712d70c",
   "metadata": {
    "collapsed": false
   },
   "source": [
    "## Finding the author with the maximum number of books"
   ]
  },
  {
   "cell_type": "code",
   "execution_count": 7,
   "id": "82781c06ce03620b",
   "metadata": {
    "collapsed": false,
    "ExecuteTime": {
     "end_time": "2024-02-06T04:23:47.894424800Z",
     "start_time": "2024-02-06T04:23:47.824337Z"
    }
   },
   "outputs": [
    {
     "data": {
      "text/plain": "'Jeff Kinney'"
     },
     "execution_count": 7,
     "metadata": {},
     "output_type": "execute_result"
    }
   ],
   "source": [
    "max_author = author_counts.idxmax()\n",
    "max_author"
   ]
  },
  {
   "cell_type": "markdown",
   "id": "ba52883c9b0b1128",
   "metadata": {
    "collapsed": false
   },
   "source": [
    "## Filtering books written by a specific author (Jeff Kinney)"
   ]
  },
  {
   "cell_type": "code",
   "execution_count": 8,
   "id": "2e6f9f2e847b0045",
   "metadata": {
    "collapsed": false,
    "ExecuteTime": {
     "end_time": "2024-02-06T04:23:48.079640800Z",
     "start_time": "2024-02-06T04:23:47.833093500Z"
    }
   },
   "outputs": [
    {
     "data": {
      "text/plain": "                                                  name       author  rating  \\\n37          Cabin Fever (Diary of a Wimpy Kid, Book 6)  Jeff Kinney     4.8   \n57             Diary of a Wimpy Kid: Hard Luck, Book 8  Jeff Kinney     4.8   \n58       Diary of a Wimpy Kid: The Last Straw (Book 3)  Jeff Kinney     4.8   \n59                 Diary of a Wimpy Kid: The Long Haul  Jeff Kinney     4.8   \n65   Dog Days (Diary of a Wimpy Kid, Book 4) (Volum...  Jeff Kinney     4.8   \n72              Double Down (Diary of a Wimpy Kid #11)  Jeff Kinney     4.8   \n179              Old School (Diary of a Wimpy Kid #10)  Jeff Kinney     4.8   \n244                                        The Getaway  Jeff Kinney     4.8   \n278        The Meltdown (Diary of a Wimpy Kid Book 13)  Jeff Kinney     4.8   \n302     The Third Wheel (Diary of a Wimpy Kid, Book 7)  Jeff Kinney     4.7   \n308      The Ugly Truth (Diary of a Wimpy Kid, Book 5)  Jeff Kinney     4.8   \n349       Wrecking Ball (Diary of a Wimpy Kid Book 14)  Jeff Kinney     4.9   \n\n     year      genre  \n37   2011  Childrens  \n57   2013  Childrens  \n58   2009  Childrens  \n59   2014  Childrens  \n65   2009  Childrens  \n72   2016  Childrens  \n179  2015  Childrens  \n244  2017    Fiction  \n278  2018  Childrens  \n302  2012  Childrens  \n308  2010  Childrens  \n349  2019  Childrens  ",
      "text/html": "<div>\n<style scoped>\n    .dataframe tbody tr th:only-of-type {\n        vertical-align: middle;\n    }\n\n    .dataframe tbody tr th {\n        vertical-align: top;\n    }\n\n    .dataframe thead th {\n        text-align: right;\n    }\n</style>\n<table border=\"1\" class=\"dataframe\">\n  <thead>\n    <tr style=\"text-align: right;\">\n      <th></th>\n      <th>name</th>\n      <th>author</th>\n      <th>rating</th>\n      <th>year</th>\n      <th>genre</th>\n    </tr>\n  </thead>\n  <tbody>\n    <tr>\n      <th>37</th>\n      <td>Cabin Fever (Diary of a Wimpy Kid, Book 6)</td>\n      <td>Jeff Kinney</td>\n      <td>4.8</td>\n      <td>2011</td>\n      <td>Childrens</td>\n    </tr>\n    <tr>\n      <th>57</th>\n      <td>Diary of a Wimpy Kid: Hard Luck, Book 8</td>\n      <td>Jeff Kinney</td>\n      <td>4.8</td>\n      <td>2013</td>\n      <td>Childrens</td>\n    </tr>\n    <tr>\n      <th>58</th>\n      <td>Diary of a Wimpy Kid: The Last Straw (Book 3)</td>\n      <td>Jeff Kinney</td>\n      <td>4.8</td>\n      <td>2009</td>\n      <td>Childrens</td>\n    </tr>\n    <tr>\n      <th>59</th>\n      <td>Diary of a Wimpy Kid: The Long Haul</td>\n      <td>Jeff Kinney</td>\n      <td>4.8</td>\n      <td>2014</td>\n      <td>Childrens</td>\n    </tr>\n    <tr>\n      <th>65</th>\n      <td>Dog Days (Diary of a Wimpy Kid, Book 4) (Volum...</td>\n      <td>Jeff Kinney</td>\n      <td>4.8</td>\n      <td>2009</td>\n      <td>Childrens</td>\n    </tr>\n    <tr>\n      <th>72</th>\n      <td>Double Down (Diary of a Wimpy Kid #11)</td>\n      <td>Jeff Kinney</td>\n      <td>4.8</td>\n      <td>2016</td>\n      <td>Childrens</td>\n    </tr>\n    <tr>\n      <th>179</th>\n      <td>Old School (Diary of a Wimpy Kid #10)</td>\n      <td>Jeff Kinney</td>\n      <td>4.8</td>\n      <td>2015</td>\n      <td>Childrens</td>\n    </tr>\n    <tr>\n      <th>244</th>\n      <td>The Getaway</td>\n      <td>Jeff Kinney</td>\n      <td>4.8</td>\n      <td>2017</td>\n      <td>Fiction</td>\n    </tr>\n    <tr>\n      <th>278</th>\n      <td>The Meltdown (Diary of a Wimpy Kid Book 13)</td>\n      <td>Jeff Kinney</td>\n      <td>4.8</td>\n      <td>2018</td>\n      <td>Childrens</td>\n    </tr>\n    <tr>\n      <th>302</th>\n      <td>The Third Wheel (Diary of a Wimpy Kid, Book 7)</td>\n      <td>Jeff Kinney</td>\n      <td>4.7</td>\n      <td>2012</td>\n      <td>Childrens</td>\n    </tr>\n    <tr>\n      <th>308</th>\n      <td>The Ugly Truth (Diary of a Wimpy Kid, Book 5)</td>\n      <td>Jeff Kinney</td>\n      <td>4.8</td>\n      <td>2010</td>\n      <td>Childrens</td>\n    </tr>\n    <tr>\n      <th>349</th>\n      <td>Wrecking Ball (Diary of a Wimpy Kid Book 14)</td>\n      <td>Jeff Kinney</td>\n      <td>4.9</td>\n      <td>2019</td>\n      <td>Childrens</td>\n    </tr>\n  </tbody>\n</table>\n</div>"
     },
     "execution_count": 8,
     "metadata": {},
     "output_type": "execute_result"
    }
   ],
   "source": [
    "author_books = bdata[bdata['author'] == 'Jeff Kinney']\n",
    "author_books"
   ]
  },
  {
   "cell_type": "markdown",
   "id": "f4a67f64a55c2339",
   "metadata": {
    "collapsed": false
   },
   "source": [
    "## Calculating the average ratings for each author"
   ]
  },
  {
   "cell_type": "code",
   "execution_count": 9,
   "id": "17ed0826ea29b9ce",
   "metadata": {
    "collapsed": false,
    "ExecuteTime": {
     "end_time": "2024-02-06T04:23:48.079640800Z",
     "start_time": "2024-02-06T04:23:47.846182700Z"
    }
   },
   "outputs": [
    {
     "data": {
      "text/plain": "author\nAbraham Verghese              4.60\nAdam Gasiewski                4.40\nAdam Mansbach                 4.80\nAdir Levy                     4.80\nAdmiral William H. McRaven    4.70\n                              ... \nWalter Isaacson               4.55\nWilliam Davis                 4.40\nWilliam P. Young              4.60\nWizards RPG Team              4.80\nZhi Gang Sha                  4.60\nName: rating, Length: 247, dtype: float64"
     },
     "execution_count": 9,
     "metadata": {},
     "output_type": "execute_result"
    }
   ],
   "source": [
    "author_avg_ratings = bdata.groupby('author')['rating'].mean()\n",
    "author_avg_ratings"
   ]
  },
  {
   "cell_type": "markdown",
   "id": "7768573b7c6f3698",
   "metadata": {
    "collapsed": false
   },
   "source": [
    "## Finding the author with the maximum average rating"
   ]
  },
  {
   "cell_type": "code",
   "execution_count": 10,
   "id": "dd34945c8b1e40e2",
   "metadata": {
    "collapsed": false,
    "ExecuteTime": {
     "end_time": "2024-02-06T04:23:48.082133900Z",
     "start_time": "2024-02-06T04:23:47.858034800Z"
    }
   },
   "outputs": [
    {
     "name": "stdout",
     "output_type": "stream",
     "text": [
      "Alice Schertle: 4.9\n"
     ]
    }
   ],
   "source": [
    "max_avg_author = author_avg_ratings.idxmax()\n",
    "max_avg_rating = author_avg_ratings.max()\n",
    "print(f\"{max_avg_author}: {max_avg_rating}\")"
   ]
  },
  {
   "cell_type": "markdown",
   "id": "215133ed473bad2d",
   "metadata": {
    "collapsed": false
   },
   "source": [
    "## Checking for missing values in the dataset"
   ]
  },
  {
   "cell_type": "code",
   "execution_count": 11,
   "id": "e6d946549dd4d7d",
   "metadata": {
    "collapsed": false,
    "ExecuteTime": {
     "end_time": "2024-02-06T04:23:48.152452200Z",
     "start_time": "2024-02-06T04:23:47.868105500Z"
    }
   },
   "outputs": [
    {
     "name": "stdout",
     "output_type": "stream",
     "text": [
      "Missing Values:\n",
      " name      0\n",
      "author    0\n",
      "rating    0\n",
      "year      0\n",
      "genre     0\n",
      "dtype: int64\n"
     ]
    }
   ],
   "source": [
    "missing_values = bdata.isnull().sum()\n",
    "print(\"Missing Values:\\n\", missing_values)"
   ]
  },
  {
   "cell_type": "markdown",
   "id": "8bec1c0dfbdc0fe5",
   "metadata": {
    "collapsed": false
   },
   "source": [
    "## Summarizing the dataset statistics"
   ]
  },
  {
   "cell_type": "code",
   "execution_count": 12,
   "id": "f6b8f98a7e2dd49e",
   "metadata": {
    "collapsed": false,
    "ExecuteTime": {
     "end_time": "2024-02-06T04:23:48.180893400Z",
     "start_time": "2024-02-06T04:23:47.875838500Z"
    }
   },
   "outputs": [
    {
     "name": "stdout",
     "output_type": "stream",
     "text": [
      "Summary Statistics:\n",
      "            rating         year\n",
      "count  350.000000   350.000000\n",
      "mean     4.608571  2013.508571\n",
      "std      0.226941     3.284711\n",
      "min      3.300000  2009.000000\n",
      "25%      4.500000  2010.000000\n",
      "50%      4.600000  2013.000000\n",
      "75%      4.800000  2016.000000\n",
      "max      4.900000  2019.000000\n"
     ]
    }
   ],
   "source": [
    "summary_stats = bdata.describe()\n",
    "print(\"Summary Statistics:\\n\", summary_stats)"
   ]
  },
  {
   "cell_type": "markdown",
   "id": "668f9e508e32892d",
   "metadata": {
    "collapsed": false
   },
   "source": [
    "## Calculating correlation matrix"
   ]
  },
  {
   "cell_type": "code",
   "execution_count": 13,
   "id": "55da6910dd6a2620",
   "metadata": {
    "collapsed": false,
    "ExecuteTime": {
     "end_time": "2024-02-06T04:23:48.184255Z",
     "start_time": "2024-02-06T04:23:47.888886900Z"
    }
   },
   "outputs": [
    {
     "name": "stdout",
     "output_type": "stream",
     "text": [
      "Correlation Matrix:\n",
      "           rating      year\n",
      "rating  1.000000  0.220153\n",
      "year    0.220153  1.000000\n"
     ]
    }
   ],
   "source": [
    "numeric_columns = bdata.select_dtypes(include=['number'])\n",
    "correlation_matrix = numeric_columns.corr()\n",
    "print(\"Correlation Matrix:\\n\", correlation_matrix)"
   ]
  },
  {
   "cell_type": "markdown",
   "id": "a315870466b61f6c",
   "metadata": {
    "collapsed": false
   },
   "source": [
    "## Splitting the dataset into Train and Test sets"
   ]
  },
  {
   "cell_type": "code",
   "execution_count": 14,
   "id": "eca76732d1f8547",
   "metadata": {
    "collapsed": false,
    "ExecuteTime": {
     "end_time": "2024-02-06T04:23:48.612998700Z",
     "start_time": "2024-02-06T04:23:47.895933600Z"
    }
   },
   "outputs": [],
   "source": [
    "from sklearn.model_selection import train_test_split\n",
    "\n",
    "X = bdata.drop('rating', axis=1)\n",
    "y = bdata['rating']\n",
    "\n",
    "X_train, X_test, y_train, y_test = train_test_split(X, y, test_size=0.2, random_state=42)"
   ]
  },
  {
   "cell_type": "code",
   "execution_count": 15,
   "outputs": [
    {
     "data": {
      "text/plain": "                                                  name              author  \\\n228                                     The Book Thief        Markus Zusak   \n78                            Eclipse (Twilight Sagas)     Stephenie Meyer   \n90                                     First 100 Words        Roger Priddy   \n16      Adult Coloring Book: Stress Relieving Patterns  Blue Star Coloring   \n66   Dog Man and Cat Kid: From the Creator of Capta...          Dav Pilkey   \n..                                                 ...                 ...   \n71   Dog Man: Lord of the Fleas: From the Creator o...          Dav Pilkey   \n106  Good to Great: Why Some Companies Make the Lea...         Jim Collins   \n270                                     The Litigators        John Grisham   \n348                                             Wonder       R. J. Palacio   \n102                               Go the F**k to Sleep       Adam Mansbach   \n\n     year        genre  \n228  2013      Fiction  \n78   2009      Fiction  \n90   2014  Non Fiction  \n16   2015  Non Fiction  \n66   2018    Childrens  \n..    ...          ...  \n71   2018    Childrens  \n106  2009  Non Fiction  \n270  2011      Fiction  \n348  2013      Fiction  \n102  2011      Fiction  \n\n[280 rows x 4 columns]",
      "text/html": "<div>\n<style scoped>\n    .dataframe tbody tr th:only-of-type {\n        vertical-align: middle;\n    }\n\n    .dataframe tbody tr th {\n        vertical-align: top;\n    }\n\n    .dataframe thead th {\n        text-align: right;\n    }\n</style>\n<table border=\"1\" class=\"dataframe\">\n  <thead>\n    <tr style=\"text-align: right;\">\n      <th></th>\n      <th>name</th>\n      <th>author</th>\n      <th>year</th>\n      <th>genre</th>\n    </tr>\n  </thead>\n  <tbody>\n    <tr>\n      <th>228</th>\n      <td>The Book Thief</td>\n      <td>Markus Zusak</td>\n      <td>2013</td>\n      <td>Fiction</td>\n    </tr>\n    <tr>\n      <th>78</th>\n      <td>Eclipse (Twilight Sagas)</td>\n      <td>Stephenie Meyer</td>\n      <td>2009</td>\n      <td>Fiction</td>\n    </tr>\n    <tr>\n      <th>90</th>\n      <td>First 100 Words</td>\n      <td>Roger Priddy</td>\n      <td>2014</td>\n      <td>Non Fiction</td>\n    </tr>\n    <tr>\n      <th>16</th>\n      <td>Adult Coloring Book: Stress Relieving Patterns</td>\n      <td>Blue Star Coloring</td>\n      <td>2015</td>\n      <td>Non Fiction</td>\n    </tr>\n    <tr>\n      <th>66</th>\n      <td>Dog Man and Cat Kid: From the Creator of Capta...</td>\n      <td>Dav Pilkey</td>\n      <td>2018</td>\n      <td>Childrens</td>\n    </tr>\n    <tr>\n      <th>...</th>\n      <td>...</td>\n      <td>...</td>\n      <td>...</td>\n      <td>...</td>\n    </tr>\n    <tr>\n      <th>71</th>\n      <td>Dog Man: Lord of the Fleas: From the Creator o...</td>\n      <td>Dav Pilkey</td>\n      <td>2018</td>\n      <td>Childrens</td>\n    </tr>\n    <tr>\n      <th>106</th>\n      <td>Good to Great: Why Some Companies Make the Lea...</td>\n      <td>Jim Collins</td>\n      <td>2009</td>\n      <td>Non Fiction</td>\n    </tr>\n    <tr>\n      <th>270</th>\n      <td>The Litigators</td>\n      <td>John Grisham</td>\n      <td>2011</td>\n      <td>Fiction</td>\n    </tr>\n    <tr>\n      <th>348</th>\n      <td>Wonder</td>\n      <td>R. J. Palacio</td>\n      <td>2013</td>\n      <td>Fiction</td>\n    </tr>\n    <tr>\n      <th>102</th>\n      <td>Go the F**k to Sleep</td>\n      <td>Adam Mansbach</td>\n      <td>2011</td>\n      <td>Fiction</td>\n    </tr>\n  </tbody>\n</table>\n<p>280 rows × 4 columns</p>\n</div>"
     },
     "execution_count": 15,
     "metadata": {},
     "output_type": "execute_result"
    }
   ],
   "source": [
    "X_train"
   ],
   "metadata": {
    "collapsed": false,
    "ExecuteTime": {
     "end_time": "2024-02-06T04:23:48.620395500Z",
     "start_time": "2024-02-06T04:23:48.564096900Z"
    }
   },
   "id": "17af193c29d06d47"
  },
  {
   "cell_type": "code",
   "execution_count": 16,
   "outputs": [
    {
     "data": {
      "text/plain": "                                                  name               author  \\\n157                                               Life       Keith Richards   \n341                            When Breath Becomes Air       Paul Kalanithi   \n315  Things That Matter: Three Decades of Passions,...  Charles Krauthammer   \n234                            The Confession: A Novel         John Grisham   \n155  Lettering and Modern Calligraphy: A Beginner's...    Paper Peony Press   \n..                                                 ...                  ...   \n94   Game of Thrones Boxed Set: A Game of Thrones/A...   George R.R. Martin   \n181  One Thousand Gifts: A Dare to Live Fully Right...          Ann Voskamp   \n179              Old School (Diary of a Wimpy Kid #10)          Jeff Kinney   \n199                                        Sarah's Key    Tatiana de Rosnay   \n326               Twilight (The Twilight Saga, Book 1)      Stephenie Meyer   \n\n     year        genre  \n157  2010  Non Fiction  \n341  2016  Non Fiction  \n315  2013  Non Fiction  \n234  2010      Fiction  \n155  2018  Non Fiction  \n..    ...          ...  \n94   2011      Fiction  \n181  2011  Non Fiction  \n179  2015    Childrens  \n199  2010      Fiction  \n326  2009      Fiction  \n\n[70 rows x 4 columns]",
      "text/html": "<div>\n<style scoped>\n    .dataframe tbody tr th:only-of-type {\n        vertical-align: middle;\n    }\n\n    .dataframe tbody tr th {\n        vertical-align: top;\n    }\n\n    .dataframe thead th {\n        text-align: right;\n    }\n</style>\n<table border=\"1\" class=\"dataframe\">\n  <thead>\n    <tr style=\"text-align: right;\">\n      <th></th>\n      <th>name</th>\n      <th>author</th>\n      <th>year</th>\n      <th>genre</th>\n    </tr>\n  </thead>\n  <tbody>\n    <tr>\n      <th>157</th>\n      <td>Life</td>\n      <td>Keith Richards</td>\n      <td>2010</td>\n      <td>Non Fiction</td>\n    </tr>\n    <tr>\n      <th>341</th>\n      <td>When Breath Becomes Air</td>\n      <td>Paul Kalanithi</td>\n      <td>2016</td>\n      <td>Non Fiction</td>\n    </tr>\n    <tr>\n      <th>315</th>\n      <td>Things That Matter: Three Decades of Passions,...</td>\n      <td>Charles Krauthammer</td>\n      <td>2013</td>\n      <td>Non Fiction</td>\n    </tr>\n    <tr>\n      <th>234</th>\n      <td>The Confession: A Novel</td>\n      <td>John Grisham</td>\n      <td>2010</td>\n      <td>Fiction</td>\n    </tr>\n    <tr>\n      <th>155</th>\n      <td>Lettering and Modern Calligraphy: A Beginner's...</td>\n      <td>Paper Peony Press</td>\n      <td>2018</td>\n      <td>Non Fiction</td>\n    </tr>\n    <tr>\n      <th>...</th>\n      <td>...</td>\n      <td>...</td>\n      <td>...</td>\n      <td>...</td>\n    </tr>\n    <tr>\n      <th>94</th>\n      <td>Game of Thrones Boxed Set: A Game of Thrones/A...</td>\n      <td>George R.R. Martin</td>\n      <td>2011</td>\n      <td>Fiction</td>\n    </tr>\n    <tr>\n      <th>181</th>\n      <td>One Thousand Gifts: A Dare to Live Fully Right...</td>\n      <td>Ann Voskamp</td>\n      <td>2011</td>\n      <td>Non Fiction</td>\n    </tr>\n    <tr>\n      <th>179</th>\n      <td>Old School (Diary of a Wimpy Kid #10)</td>\n      <td>Jeff Kinney</td>\n      <td>2015</td>\n      <td>Childrens</td>\n    </tr>\n    <tr>\n      <th>199</th>\n      <td>Sarah's Key</td>\n      <td>Tatiana de Rosnay</td>\n      <td>2010</td>\n      <td>Fiction</td>\n    </tr>\n    <tr>\n      <th>326</th>\n      <td>Twilight (The Twilight Saga, Book 1)</td>\n      <td>Stephenie Meyer</td>\n      <td>2009</td>\n      <td>Fiction</td>\n    </tr>\n  </tbody>\n</table>\n<p>70 rows × 4 columns</p>\n</div>"
     },
     "execution_count": 16,
     "metadata": {},
     "output_type": "execute_result"
    }
   ],
   "source": [
    "X_test"
   ],
   "metadata": {
    "collapsed": false,
    "ExecuteTime": {
     "end_time": "2024-02-06T04:23:48.621406100Z",
     "start_time": "2024-02-06T04:23:48.575915200Z"
    }
   },
   "id": "d17cc26a772f2991"
  },
  {
   "cell_type": "code",
   "execution_count": 17,
   "outputs": [
    {
     "data": {
      "text/plain": "228    4.6\n78     4.7\n90     4.7\n16     4.4\n66     4.9\n      ... \n71     4.9\n106    4.5\n270    4.4\n348    4.8\n102    4.8\nName: rating, Length: 280, dtype: float64"
     },
     "execution_count": 17,
     "metadata": {},
     "output_type": "execute_result"
    }
   ],
   "source": [
    "y_train"
   ],
   "metadata": {
    "collapsed": false,
    "ExecuteTime": {
     "end_time": "2024-02-06T04:23:50.333508800Z",
     "start_time": "2024-02-06T04:23:50.310901Z"
    }
   },
   "id": "47e3c16005485686"
  },
  {
   "cell_type": "code",
   "execution_count": 18,
   "outputs": [
    {
     "data": {
      "text/plain": "157    4.5\n341    4.8\n315    4.7\n234    4.3\n155    4.4\n      ... \n94     4.6\n181    4.6\n179    4.8\n199    4.6\n326    4.7\nName: rating, Length: 70, dtype: float64"
     },
     "execution_count": 18,
     "metadata": {},
     "output_type": "execute_result"
    }
   ],
   "source": [
    "y_test"
   ],
   "metadata": {
    "collapsed": false,
    "ExecuteTime": {
     "end_time": "2024-02-06T04:23:51.304739100Z",
     "start_time": "2024-02-06T04:23:51.249906500Z"
    }
   },
   "id": "54e1f1d1ae379c3e"
  }
 ],
 "metadata": {
  "kernelspec": {
   "display_name": "Python 3 (ipykernel)",
   "language": "python",
   "name": "python3"
  },
  "language_info": {
   "codemirror_mode": {
    "name": "ipython",
    "version": 3
   },
   "file_extension": ".py",
   "mimetype": "text/x-python",
   "name": "python",
   "nbconvert_exporter": "python",
   "pygments_lexer": "ipython3",
   "version": "3.11.7"
  }
 },
 "nbformat": 4,
 "nbformat_minor": 5
}
